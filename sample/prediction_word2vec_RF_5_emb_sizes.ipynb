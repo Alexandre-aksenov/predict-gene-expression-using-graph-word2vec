{
 "cells": [
  {
   "cell_type": "markdown",
   "metadata": {},
   "source": [
    "Prediction of the target variable using word2vec.\n",
    "5 different embedding sizes are checked: 10, 20, 30, 40, 50."
   ]
  },
  {
   "cell_type": "code",
   "execution_count": 1,
   "metadata": {},
   "outputs": [
    {
     "name": "stderr",
     "output_type": "stream",
     "text": [
      "2024-02-07 10:10:52.861299: I tensorflow/core/platform/cpu_feature_guard.cc:182] This TensorFlow binary is optimized to use available CPU instructions in performance-critical operations.\n",
      "To enable the following instructions: SSE4.1 SSE4.2 AVX AVX2 AVX_VNNI FMA, in other operations, rebuild TensorFlow with the appropriate compiler flags.\n",
      "2024-02-07 10:10:53.914531: I tensorflow/core/common_runtime/process_util.cc:146] Creating new thread pool with default inter op setting: 2. Tune using inter_op_parallelism_threads for best performance.\n"
     ]
    }
   ],
   "source": [
    "import numpy as np\n",
    "import pandas as pd\n",
    "import networkx as nx\n",
    "\n",
    "from stellargraph import StellarGraph\n",
    "from stellargraph.data import BiasedRandomWalk\n",
    "from gensim.models import Word2Vec\n",
    "\n",
    "from sklearn.ensemble import RandomForestRegressor\n",
    "from sklearn.metrics import mean_squared_error\n",
    "\n",
    "import matplotlib.pyplot as plt\n",
    "%matplotlib inline"
   ]
  },
  {
   "cell_type": "markdown",
   "metadata": {},
   "source": [
    "Import the graph"
   ]
  },
  {
   "cell_type": "code",
   "execution_count": 2,
   "metadata": {},
   "outputs": [
    {
     "name": "stdout",
     "output_type": "stream",
     "text": [
      "(594174, 3)\n"
     ]
    },
    {
     "data": {
      "text/html": [
       "<div>\n",
       "<style scoped>\n",
       "    .dataframe tbody tr th:only-of-type {\n",
       "        vertical-align: middle;\n",
       "    }\n",
       "\n",
       "    .dataframe tbody tr th {\n",
       "        vertical-align: top;\n",
       "    }\n",
       "\n",
       "    .dataframe thead th {\n",
       "        text-align: right;\n",
       "    }\n",
       "</style>\n",
       "<table border=\"1\" class=\"dataframe\">\n",
       "  <thead>\n",
       "    <tr style=\"text-align: right;\">\n",
       "      <th></th>\n",
       "      <th>Unnamed: 0</th>\n",
       "      <th>node_1</th>\n",
       "      <th>node_2</th>\n",
       "    </tr>\n",
       "  </thead>\n",
       "  <tbody>\n",
       "    <tr>\n",
       "      <th>0</th>\n",
       "      <td>0</td>\n",
       "      <td>344</td>\n",
       "      <td>50</td>\n",
       "    </tr>\n",
       "    <tr>\n",
       "      <th>1</th>\n",
       "      <td>1</td>\n",
       "      <td>344</td>\n",
       "      <td>153</td>\n",
       "    </tr>\n",
       "    <tr>\n",
       "      <th>2</th>\n",
       "      <td>2</td>\n",
       "      <td>344</td>\n",
       "      <td>532</td>\n",
       "    </tr>\n",
       "    <tr>\n",
       "      <th>3</th>\n",
       "      <td>3</td>\n",
       "      <td>344</td>\n",
       "      <td>679</td>\n",
       "    </tr>\n",
       "    <tr>\n",
       "      <th>4</th>\n",
       "      <td>4</td>\n",
       "      <td>344</td>\n",
       "      <td>986</td>\n",
       "    </tr>\n",
       "  </tbody>\n",
       "</table>\n",
       "</div>"
      ],
      "text/plain": [
       "   Unnamed: 0  node_1  node_2\n",
       "0           0     344      50\n",
       "1           1     344     153\n",
       "2           2     344     532\n",
       "3           3     344     679\n",
       "4           4     344     986"
      ]
     },
     "execution_count": 2,
     "metadata": {},
     "output_type": "execute_result"
    }
   ],
   "source": [
    "# List of edges\n",
    "\n",
    "# edges = pd.read_csv(\"https://raw.githubusercontent.com/a-milenkin/Otus_HW_protein_expression/main/edges.csv\", sep=\",\") # Подгрузим данные\n",
    "edges = pd.read_csv(\"../dat/edges.csv\", sep=\",\")\n",
    "print((edges.shape))  # (594174, 2)\n",
    "edges.head()"
   ]
  },
  {
   "cell_type": "code",
   "execution_count": 3,
   "metadata": {},
   "outputs": [
    {
     "name": "stdout",
     "output_type": "stream",
     "text": [
      "<class 'networkx.classes.graph.Graph'>\n",
      "The graph contains 10000 nodes (proteins).\n",
      "and 594174 edges.\n",
      "It has 1 connected component(s).\n"
     ]
    }
   ],
   "source": [
    "# Convert into a graph\n",
    "G = nx.from_pandas_edgelist(edges, \"node_1\", \"node_2\")\n",
    "print(type(G))\n",
    "print(\"The graph contains\", G.number_of_nodes(), \"nodes (proteins).\")  # 10000\n",
    "print(\"and\", G.number_of_edges(), \"edges.\")  # 594174, OK\n",
    "print(\"It has\", nx.number_connected_components(G) , \"connected component(s).\")  # 1"
   ]
  },
  {
   "cell_type": "markdown",
   "metadata": {},
   "source": [
    "Load train, test sets."
   ]
  },
  {
   "cell_type": "code",
   "execution_count": 4,
   "metadata": {},
   "outputs": [
    {
     "name": "stdout",
     "output_type": "stream",
     "text": [
      "(8000, 3)\n"
     ]
    },
    {
     "data": {
      "text/html": [
       "<div>\n",
       "<style scoped>\n",
       "    .dataframe tbody tr th:only-of-type {\n",
       "        vertical-align: middle;\n",
       "    }\n",
       "\n",
       "    .dataframe tbody tr th {\n",
       "        vertical-align: top;\n",
       "    }\n",
       "\n",
       "    .dataframe thead th {\n",
       "        text-align: right;\n",
       "    }\n",
       "</style>\n",
       "<table border=\"1\" class=\"dataframe\">\n",
       "  <thead>\n",
       "    <tr style=\"text-align: right;\">\n",
       "      <th></th>\n",
       "      <th>Unnamed: 0</th>\n",
       "      <th>target</th>\n",
       "      <th>node</th>\n",
       "    </tr>\n",
       "  </thead>\n",
       "  <tbody>\n",
       "    <tr>\n",
       "      <th>0</th>\n",
       "      <td>0</td>\n",
       "      <td>0.251968</td>\n",
       "      <td>11142</td>\n",
       "    </tr>\n",
       "    <tr>\n",
       "      <th>1</th>\n",
       "      <td>1</td>\n",
       "      <td>0.689541</td>\n",
       "      <td>2243</td>\n",
       "    </tr>\n",
       "    <tr>\n",
       "      <th>2</th>\n",
       "      <td>2</td>\n",
       "      <td>0.678245</td>\n",
       "      <td>15514</td>\n",
       "    </tr>\n",
       "    <tr>\n",
       "      <th>3</th>\n",
       "      <td>3</td>\n",
       "      <td>0.272500</td>\n",
       "      <td>20944</td>\n",
       "    </tr>\n",
       "    <tr>\n",
       "      <th>4</th>\n",
       "      <td>4</td>\n",
       "      <td>0.248888</td>\n",
       "      <td>8721</td>\n",
       "    </tr>\n",
       "  </tbody>\n",
       "</table>\n",
       "</div>"
      ],
      "text/plain": [
       "   Unnamed: 0    target   node\n",
       "0           0  0.251968  11142\n",
       "1           1  0.689541   2243\n",
       "2           2  0.678245  15514\n",
       "3           3  0.272500  20944\n",
       "4           4  0.248888   8721"
      ]
     },
     "execution_count": 4,
     "metadata": {},
     "output_type": "execute_result"
    }
   ],
   "source": [
    "# load train, test\n",
    "train = pd.read_csv(\"../dat/train.csv\", sep=\",\")\n",
    "test = pd.read_csv(\"../dat/test.csv\", sep=\",\")\n",
    "\n",
    "print(train.shape)  # (8000, 2)\n",
    "train.head()"
   ]
  },
  {
   "cell_type": "markdown",
   "metadata": {},
   "source": [
    "# Generate features.\n",
    "This solution runs 4 slightly different models. Each one used the random walks, then word2vec for generating features. \n",
    "\n",
    "The models differ in the dimension of the embedding space.\n",
    "This allows producing common random walks to all 4 models, which makes economy of computation time."
   ]
  },
  {
   "cell_type": "markdown",
   "metadata": {},
   "source": [
    "Common hyperparameters for all models."
   ]
  },
  {
   "cell_type": "code",
   "execution_count": 5,
   "metadata": {},
   "outputs": [],
   "source": [
    "len_walk = 20\n",
    "num_runs = 5\n",
    "p_ret = 0.4\n",
    "\n",
    "num_workers = 4"
   ]
  },
  {
   "cell_type": "code",
   "execution_count": 6,
   "metadata": {},
   "outputs": [
    {
     "name": "stdout",
     "output_type": "stream",
     "text": [
      "<class 'pandas.core.indexes.base.Index'>\n",
      "CPU times: user 1min 8s, sys: 130 ms, total: 1min 8s\n",
      "Wall time: 1min 8s\n"
     ]
    }
   ],
   "source": [
    "%%time\n",
    "# Random walks \n",
    "\n",
    "g_st = StellarGraph.from_networkx(G)\n",
    "rw = BiasedRandomWalk(g_st, seed=42)\n",
    "\n",
    "nodes = g_st.nodes()  # the list of nodes is also used in the main loop below\n",
    "walks = rw.run(nodes=list(nodes), length=len_walk, n=num_runs, p=p_ret, seed=42)\n",
    "str_walks = [list(map(str, w)) for w in walks]\n",
    "\n",
    "print(type(nodes))"
   ]
  },
  {
   "cell_type": "code",
   "execution_count": 7,
   "metadata": {},
   "outputs": [],
   "source": [
    "# The regression model\n",
    "rf_model = RandomForestRegressor(n_estimators=50, max_depth=10, random_state=1, n_jobs=num_workers)"
   ]
  },
  {
   "cell_type": "markdown",
   "metadata": {},
   "source": [
    "Loop of training the regressor with different embedding sizes in a loop over different embedding sizes."
   ]
  },
  {
   "cell_type": "code",
   "execution_count": 8,
   "metadata": {},
   "outputs": [],
   "source": [
    "# Different embedding sizes.\n",
    "emb_sizes = list(range(10,60,10))\n",
    "\n",
    "errors_train = []\n",
    "errors_test = []  # lists for keeping the final results"
   ]
  },
  {
   "cell_type": "code",
   "execution_count": 9,
   "metadata": {},
   "outputs": [
    {
     "name": "stdout",
     "output_type": "stream",
     "text": [
      "CPU times: user 1min 17s, sys: 199 ms, total: 1min 17s\n",
      "Wall time: 21 s\n"
     ]
    }
   ],
   "source": [
    "%%time\n",
    "\n",
    "# Main loop, which computes features using word2vec, gathers the features into DataFrames, fits the regression model.\n",
    "for emb_size in emb_sizes:\n",
    "    model = Word2Vec(str_walks, vector_size=emb_size, workers=num_workers)\n",
    "    fts = np.array([model.wv[str(node)] for node in nodes])\n",
    "    df_fts = pd.DataFrame(np.column_stack([nodes, fts]))\n",
    "    \n",
    "    # rename the columns of features\n",
    "    ft_col_names =  ['X_{}'.format(i) for i in range(fts.shape[1])]\n",
    "    columns = ['node'] + ft_col_names\n",
    "    df_fts.columns = columns\n",
    "    \n",
    "    # convert the node indices to integer type for compatibility with train, test sets.\n",
    "    df_fts['node'] =  df_fts['node'].astype(int)\n",
    "    \n",
    "    # subdivide the DF of features, in accordance with the node numbers of loaded train , test.\n",
    "    df_train_all_cols = df_fts.merge(train[['target', 'node']], on='node')\n",
    "    df_test_all_cols = df_fts.merge(test[['target', 'node']], on='node')\n",
    "    \n",
    "    # Train the regression model.\n",
    "    rf_model.fit(df_train_all_cols[ft_col_names], df_train_all_cols['target'])\n",
    "    \n",
    "    # Check its performance on training, test set.\n",
    "    preds_train = rf_model.predict(df_train_all_cols[ft_col_names])\n",
    "    preds_test= rf_model.predict(df_test_all_cols[ft_col_names])\n",
    "    MSE_train = mean_squared_error(df_train_all_cols['target'], preds_train)\n",
    "    MSE_test = mean_squared_error(df_test_all_cols['target'], preds_test)\n",
    "    \n",
    "    # Save the results\n",
    "    errors_train.append(MSE_train)\n",
    "    errors_test.append(MSE_test)"
   ]
  },
  {
   "cell_type": "code",
   "execution_count": 10,
   "metadata": {},
   "outputs": [
    {
     "name": "stdout",
     "output_type": "stream",
     "text": [
      "[0.04331762567987676, 0.03904543658561399, 0.03294009725827652, 0.03216821355056928, 0.033491144032919584]\n",
      "--------\n",
      "[0.22973125183038687, 0.22972525064759045, 0.16818560844737782, 0.1974363373507506, 0.20082750680227968]\n"
     ]
    }
   ],
   "source": [
    "print(errors_train)  # [0.04463495428256618, 0.04208853935252243, 0.033677512846114865, 0.03117192273816171]\n",
    "print('--------')\n",
    "print(errors_test)  # [0.2472448349163108, 0.2306186502724652, 0.19742922646423966, 0.18955174245420087]"
   ]
  },
  {
   "cell_type": "code",
   "execution_count": 11,
   "metadata": {},
   "outputs": [
    {
     "data": {
      "image/png": "[encoded data removed]",
      "text/plain": [
       "<Figure size 640x480 with 1 Axes>"
      ]
     },
     "metadata": {},
     "output_type": "display_data"
    }
   ],
   "source": [
    "# Plot the error on test set as a function of embedding size\n",
    "plt.plot(emb_sizes, errors_test)\n",
    "plt.grid(True)\n",
    "plt.xlabel('embedding size')\n",
    "plt.ylabel('MSE on test set')\n",
    "plt.show()"
   ]
  },
  {
   "cell_type": "markdown",
   "metadata": {},
   "source": [
    "The best error on test set is of order of 0.2. This clearly beats the dummy prediction.\n",
    "\n",
    "The results show some random behavior due to the embedding 'word2vec', see:\n",
    "\n",
    "https://github.com/piskvorky/gensim/wiki/Recipes-&-FAQ#q11-ive-trained-my-word2vecdoc2vecetc-model-repeatedly-using-the-exact-same-text-corpus-but-the-vectors-are-different-each-time-is-there-a-bug-or-have-i-made-a-mistake-2vec-training-non-determinism\n",
    "\" So, it is to be expected that models vary from run to run, even trained on the same data.\"\n",
    "\n",
    "\n",
    "The optimal embedding size seems to be 30. Indeed, the error on test set remains stable or increases afterwards.\n",
    "The error on test set is at least 4 times the error on training set. This property of the model seems inherent and independent of the the embedding size. "
   ]
  }
 ],
 "metadata": {
  "kernelspec": {
   "display_name": "ML_graph1",
   "language": "python",
   "name": "python3"
  },
  "language_info": {
   "codemirror_mode": {
    "name": "ipython",
    "version": 3
   },
   "file_extension": ".py",
   "mimetype": "text/x-python",
   "name": "python",
   "nbconvert_exporter": "python",
   "pygments_lexer": "ipython3",
   "version": "3.11.5"
  }
 },
 "nbformat": 4,
 "nbformat_minor": 2
}
