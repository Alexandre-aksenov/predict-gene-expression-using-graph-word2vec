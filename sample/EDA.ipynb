{
 "cells": [
  {
   "cell_type": "markdown",
   "metadata": {},
   "source": [
    "EDA.\n",
    "\n",
    "Download the data and convert the list of edges to graph. Check the number of nodes, of connected components. \n",
    "The instructions for drawing the graph are commented out to make economy of execution time. Their result is included on the folder res/.\n",
    "\n",
    "Check that all nodes in train and test sets are distinct and indeed in the graph. "
   ]
  },
  {
   "cell_type": "code",
   "execution_count": 21,
   "metadata": {},
   "outputs": [],
   "source": [
    "import pandas as pd\n",
    "import networkx as nx\n",
    "import numpy as np\n",
    "\n",
    "from sklearn.metrics import mean_squared_error\n",
    "\n",
    "import matplotlib.pyplot as plt\n",
    "%matplotlib inline"
   ]
  },
  {
   "cell_type": "markdown",
   "metadata": {},
   "source": [
    "# Задание - Предсказание уровня экспресси белка"
   ]
  },
  {
   "cell_type": "markdown",
   "metadata": {},
   "source": [
    "<div class=\"alert alert-info\">\n",
    "<b>Про биологию</b>\n",
    "    \n",
    "Экспрессия — процесс, в ходе которого наследственная информация от гена (последовательности нуклеотидов ДНК) преобразуется в функциональный продукт — белок. Уровнем экспрессии называют - количество белка, производящегося в этом процессе. Чем выше экспрессия белка, тем большее количество этого белка появляется в клетках человека. \n",
    "    \n",
    "    "
   ]
  },
  {
   "cell_type": "markdown",
   "metadata": {},
   "source": [
    "<div class=\"alert alert-info\">    \n",
    "<b>Важность задачи</b>\n",
    "    \n",
    "Существует множество причин необходимости в знании уровня экспресии белка. Например - это позволяет ученым разрабатывать лекарственные средства и оптимизировать их разработку. Теперь вам предстоит побыть в роли биоинформатика и помочь науке!\n",
    "    \n",
    "</div>"
   ]
  },
  {
   "cell_type": "code",
   "execution_count": null,
   "metadata": {},
   "outputs": [],
   "source": []
  },
  {
   "cell_type": "markdown",
   "metadata": {},
   "source": [
    "\n",
    "<div class=\"alert alert-info\">\n",
    "<b>Про Датасет</b>\n",
    "    \n",
    "Датасет представляет собой граф взаимойдествия белков. Где узлы это белки, взаимодействие между белками это ребро. \n",
    "\n",
    "Для каждого белка известен уровень его экспрессии. Ниже приведен список ребер `edges`. Информация по экспрессии белков, разбитая на `train` и `test`.\n",
    "   \n",
    "    \n",
    "</div>"
   ]
  },
  {
   "cell_type": "code",
   "execution_count": 22,
   "metadata": {},
   "outputs": [
    {
     "name": "stdout",
     "output_type": "stream",
     "text": [
      "(594174, 3)\n"
     ]
    },
    {
     "data": {
      "text/html": [
       "<div>\n",
       "<style scoped>\n",
       "    .dataframe tbody tr th:only-of-type {\n",
       "        vertical-align: middle;\n",
       "    }\n",
       "\n",
       "    .dataframe tbody tr th {\n",
       "        vertical-align: top;\n",
       "    }\n",
       "\n",
       "    .dataframe thead th {\n",
       "        text-align: right;\n",
       "    }\n",
       "</style>\n",
       "<table border=\"1\" class=\"dataframe\">\n",
       "  <thead>\n",
       "    <tr style=\"text-align: right;\">\n",
       "      <th></th>\n",
       "      <th>Unnamed: 0</th>\n",
       "      <th>node_1</th>\n",
       "      <th>node_2</th>\n",
       "    </tr>\n",
       "  </thead>\n",
       "  <tbody>\n",
       "    <tr>\n",
       "      <th>0</th>\n",
       "      <td>0</td>\n",
       "      <td>344</td>\n",
       "      <td>50</td>\n",
       "    </tr>\n",
       "    <tr>\n",
       "      <th>1</th>\n",
       "      <td>1</td>\n",
       "      <td>344</td>\n",
       "      <td>153</td>\n",
       "    </tr>\n",
       "    <tr>\n",
       "      <th>2</th>\n",
       "      <td>2</td>\n",
       "      <td>344</td>\n",
       "      <td>532</td>\n",
       "    </tr>\n",
       "    <tr>\n",
       "      <th>3</th>\n",
       "      <td>3</td>\n",
       "      <td>344</td>\n",
       "      <td>679</td>\n",
       "    </tr>\n",
       "    <tr>\n",
       "      <th>4</th>\n",
       "      <td>4</td>\n",
       "      <td>344</td>\n",
       "      <td>986</td>\n",
       "    </tr>\n",
       "  </tbody>\n",
       "</table>\n",
       "</div>"
      ],
      "text/plain": [
       "   Unnamed: 0  node_1  node_2\n",
       "0           0     344      50\n",
       "1           1     344     153\n",
       "2           2     344     532\n",
       "3           3     344     679\n",
       "4           4     344     986"
      ]
     },
     "execution_count": 22,
     "metadata": {},
     "output_type": "execute_result"
    }
   ],
   "source": [
    "#Список ребер графа \n",
    "\n",
    "# edges = pd.read_csv(\"https://raw.githubusercontent.com/a-milenkin/Otus_HW_protein_expression/main/edges.csv\", sep=\",\") # Подгрузим данные\n",
    "edges = pd.read_csv(\"../dat/edges.csv\", sep=\",\")\n",
    "print((edges.shape))  # (594174, 3)\n",
    "edges.head()"
   ]
  },
  {
   "cell_type": "code",
   "execution_count": 23,
   "metadata": {},
   "outputs": [
    {
     "data": {
      "text/plain": [
       "Unnamed: 0    int64\n",
       "node_1        int64\n",
       "node_2        int64\n",
       "dtype: object"
      ]
     },
     "execution_count": 23,
     "metadata": {},
     "output_type": "execute_result"
    }
   ],
   "source": [
    "edges.dtypes\n",
    "# int64"
   ]
  },
  {
   "cell_type": "markdown",
   "metadata": {},
   "source": [
    "Convert to an undirected graph."
   ]
  },
  {
   "cell_type": "code",
   "execution_count": 24,
   "metadata": {},
   "outputs": [
    {
     "name": "stdout",
     "output_type": "stream",
     "text": [
      "<class 'networkx.classes.graph.Graph'>\n",
      "The graph contains 10000 nodes (proteins).\n",
      "and 594174 edges.\n",
      "It has 1 connected component(s).\n"
     ]
    }
   ],
   "source": [
    "# see: https://networkx.org/documentation/stable/reference/generated/networkx.convert_matrix.from_pandas_edgelist.html\n",
    "\n",
    "G = nx.from_pandas_edgelist(edges, \"node_1\", \"node_2\")\n",
    "print(type(G))\n",
    "print(\"The graph contains\", G.number_of_nodes(), \"nodes (proteins).\")  # 10000\n",
    "print(\"and\", G.number_of_edges(), \"edges.\")  # 594174, OK\n",
    "print(\"It has\", nx.number_connected_components(G) , \"connected component(s).\")  # 1"
   ]
  },
  {
   "cell_type": "code",
   "execution_count": 25,
   "metadata": {},
   "outputs": [
    {
     "name": "stdout",
     "output_type": "stream",
     "text": [
      "31204\n"
     ]
    }
   ],
   "source": [
    "# Array of all labels, max\n",
    "arr_G_nodes = np.array(G.nodes())\n",
    "\n",
    "print(np.max(arr_G_nodes)) # 31204"
   ]
  },
  {
   "cell_type": "markdown",
   "metadata": {},
   "source": [
    "Подгрузим и проверим тренирочную выборку."
   ]
  },
  {
   "cell_type": "code",
   "execution_count": 26,
   "metadata": {},
   "outputs": [
    {
     "name": "stdout",
     "output_type": "stream",
     "text": [
      "(8000, 3)\n"
     ]
    },
    {
     "data": {
      "text/html": [
       "<div>\n",
       "<style scoped>\n",
       "    .dataframe tbody tr th:only-of-type {\n",
       "        vertical-align: middle;\n",
       "    }\n",
       "\n",
       "    .dataframe tbody tr th {\n",
       "        vertical-align: top;\n",
       "    }\n",
       "\n",
       "    .dataframe thead th {\n",
       "        text-align: right;\n",
       "    }\n",
       "</style>\n",
       "<table border=\"1\" class=\"dataframe\">\n",
       "  <thead>\n",
       "    <tr style=\"text-align: right;\">\n",
       "      <th></th>\n",
       "      <th>Unnamed: 0</th>\n",
       "      <th>target</th>\n",
       "      <th>node</th>\n",
       "    </tr>\n",
       "  </thead>\n",
       "  <tbody>\n",
       "    <tr>\n",
       "      <th>0</th>\n",
       "      <td>0</td>\n",
       "      <td>0.251968</td>\n",
       "      <td>11142</td>\n",
       "    </tr>\n",
       "    <tr>\n",
       "      <th>1</th>\n",
       "      <td>1</td>\n",
       "      <td>0.689541</td>\n",
       "      <td>2243</td>\n",
       "    </tr>\n",
       "    <tr>\n",
       "      <th>2</th>\n",
       "      <td>2</td>\n",
       "      <td>0.678245</td>\n",
       "      <td>15514</td>\n",
       "    </tr>\n",
       "    <tr>\n",
       "      <th>3</th>\n",
       "      <td>3</td>\n",
       "      <td>0.272500</td>\n",
       "      <td>20944</td>\n",
       "    </tr>\n",
       "    <tr>\n",
       "      <th>4</th>\n",
       "      <td>4</td>\n",
       "      <td>0.248888</td>\n",
       "      <td>8721</td>\n",
       "    </tr>\n",
       "  </tbody>\n",
       "</table>\n",
       "</div>"
      ],
      "text/plain": [
       "   Unnamed: 0    target   node\n",
       "0           0  0.251968  11142\n",
       "1           1  0.689541   2243\n",
       "2           2  0.678245  15514\n",
       "3           3  0.272500  20944\n",
       "4           4  0.248888   8721"
      ]
     },
     "execution_count": 26,
     "metadata": {},
     "output_type": "execute_result"
    }
   ],
   "source": [
    "# Подгрузим данные\n",
    "train = pd.read_csv(\"../dat/train.csv\", sep=\",\")\n",
    "\n",
    "print(train.shape)  # (8000, 3)\n",
    "train.head()"
   ]
  },
  {
   "cell_type": "code",
   "execution_count": 27,
   "metadata": {},
   "outputs": [
    {
     "data": {
      "text/plain": [
       "Unnamed: 0      int64\n",
       "target        float64\n",
       "node            int64\n",
       "dtype: object"
      ]
     },
     "execution_count": 27,
     "metadata": {},
     "output_type": "execute_result"
    }
   ],
   "source": [
    "# The data types are float64 , int64\n",
    "train.dtypes"
   ]
  },
  {
   "cell_type": "code",
   "execution_count": 28,
   "metadata": {},
   "outputs": [
    {
     "data": {
      "text/plain": [
       "Unnamed: 0    0\n",
       "target        0\n",
       "node          0\n",
       "dtype: int64"
      ]
     },
     "execution_count": 28,
     "metadata": {},
     "output_type": "execute_result"
    }
   ],
   "source": [
    "# They do not contain empty rows \n",
    "train.isnull().sum()\n",
    "\n",
    "# 0 , 0 : OK"
   ]
  },
  {
   "cell_type": "code",
   "execution_count": 29,
   "metadata": {},
   "outputs": [
    {
     "name": "stdout",
     "output_type": "stream",
     "text": [
      "(8000,)\n",
      "31204\n",
      "1\n",
      "Are the train nodes in the graph? True\n"
     ]
    }
   ],
   "source": [
    "# The nodes in training set are distinct and contained in the graph.\n",
    "train_nodes = train['node']\n",
    "print(train_nodes.shape)  # (8000,)\n",
    "print(np.max(train_nodes))  # 31204, equal to the max label of nodes in the graph.\n",
    "\n",
    "_, unique_counts_train = np.unique(train_nodes, return_counts=True)\n",
    "print(np.max(unique_counts_train))  # 1, OK\n",
    "\n",
    "print(\"Are the train nodes in the graph?\", set(train_nodes).issubset(set(arr_G_nodes)))\n",
    "# True!\n"
   ]
  },
  {
   "cell_type": "markdown",
   "metadata": {},
   "source": [
    "Подгрузим и проверим отложенную выборку для валидации"
   ]
  },
  {
   "cell_type": "code",
   "execution_count": 30,
   "metadata": {},
   "outputs": [
    {
     "name": "stdout",
     "output_type": "stream",
     "text": [
      "(2000, 3)\n"
     ]
    },
    {
     "data": {
      "text/html": [
       "<div>\n",
       "<style scoped>\n",
       "    .dataframe tbody tr th:only-of-type {\n",
       "        vertical-align: middle;\n",
       "    }\n",
       "\n",
       "    .dataframe tbody tr th {\n",
       "        vertical-align: top;\n",
       "    }\n",
       "\n",
       "    .dataframe thead th {\n",
       "        text-align: right;\n",
       "    }\n",
       "</style>\n",
       "<table border=\"1\" class=\"dataframe\">\n",
       "  <thead>\n",
       "    <tr style=\"text-align: right;\">\n",
       "      <th></th>\n",
       "      <th>Unnamed: 0</th>\n",
       "      <th>target</th>\n",
       "      <th>node</th>\n",
       "    </tr>\n",
       "  </thead>\n",
       "  <tbody>\n",
       "    <tr>\n",
       "      <th>0</th>\n",
       "      <td>0</td>\n",
       "      <td>0.279231</td>\n",
       "      <td>817</td>\n",
       "    </tr>\n",
       "    <tr>\n",
       "      <th>1</th>\n",
       "      <td>1</td>\n",
       "      <td>0.380795</td>\n",
       "      <td>9574</td>\n",
       "    </tr>\n",
       "    <tr>\n",
       "      <th>2</th>\n",
       "      <td>2</td>\n",
       "      <td>0.686527</td>\n",
       "      <td>1607</td>\n",
       "    </tr>\n",
       "    <tr>\n",
       "      <th>3</th>\n",
       "      <td>3</td>\n",
       "      <td>0.303594</td>\n",
       "      <td>4782</td>\n",
       "    </tr>\n",
       "    <tr>\n",
       "      <th>4</th>\n",
       "      <td>4</td>\n",
       "      <td>0.367374</td>\n",
       "      <td>24125</td>\n",
       "    </tr>\n",
       "  </tbody>\n",
       "</table>\n",
       "</div>"
      ],
      "text/plain": [
       "   Unnamed: 0    target   node\n",
       "0           0  0.279231    817\n",
       "1           1  0.380795   9574\n",
       "2           2  0.686527   1607\n",
       "3           3  0.303594   4782\n",
       "4           4  0.367374  24125"
      ]
     },
     "execution_count": 30,
     "metadata": {},
     "output_type": "execute_result"
    }
   ],
   "source": [
    "# test = pd.read_csv(\"https://raw.githubusercontent.com/a-milenkin/Otus_HW_protein_expression/main/test.csv\", sep=\",\")\n",
    "test = pd.read_csv(\"../dat/test.csv\", sep=\",\")\n",
    "print(test.shape)  # (2000, 3)\n",
    "test.head()  # nodes: 817, 9574, 1607, 4782, 24125"
   ]
  },
  {
   "cell_type": "code",
   "execution_count": 31,
   "metadata": {},
   "outputs": [],
   "source": [
    "# The data types are float64 , int64\n",
    "# test.dtypes"
   ]
  },
  {
   "cell_type": "code",
   "execution_count": 32,
   "metadata": {},
   "outputs": [
    {
     "data": {
      "text/plain": [
       "Unnamed: 0    0\n",
       "target        0\n",
       "node          0\n",
       "dtype: int64"
      ]
     },
     "execution_count": 32,
     "metadata": {},
     "output_type": "execute_result"
    }
   ],
   "source": [
    "# They do not contain empty rows \n",
    "test.isnull().sum()"
   ]
  },
  {
   "cell_type": "code",
   "execution_count": 33,
   "metadata": {},
   "outputs": [
    {
     "name": "stdout",
     "output_type": "stream",
     "text": [
      "(2000,)\n",
      "31120\n",
      "1\n",
      "Are the train nodes in the graph? True\n"
     ]
    }
   ],
   "source": [
    "# The nodes in test set are distinct and contained in the graph.\n",
    "test_nodes = test['node']\n",
    "print(test_nodes.shape)  # (2000,)\n",
    "print(np.max(test_nodes))  # 31120, smaller than the max label of nodes in the graph.\n",
    "\n",
    "_, unique_counts_test = np.unique(test_nodes, return_counts=True)\n",
    "print(np.max(unique_counts_test))  # 1, OK\n",
    "\n",
    "print(\"Are the train nodes in the graph?\", set(test_nodes).issubset(set(arr_G_nodes)))\n",
    "# True!"
   ]
  },
  {
   "cell_type": "code",
   "execution_count": 34,
   "metadata": {},
   "outputs": [
    {
     "name": "stdout",
     "output_type": "stream",
     "text": [
      "Are the train and test sets disjoint? True\n"
     ]
    }
   ],
   "source": [
    "# The train and test sets are indeed disjoint.\n",
    "print(\"Are the train and test sets disjoint?\", set(test_nodes).isdisjoint(set(train_nodes)))\n",
    "# True"
   ]
  },
  {
   "cell_type": "markdown",
   "metadata": {},
   "source": [
    "# Distribution of the target variable."
   ]
  },
  {
   "cell_type": "code",
   "execution_count": 35,
   "metadata": {},
   "outputs": [
    {
     "data": {
      "image/png": "[encoded data removed]",
      "text/plain": [
       "<Figure size 640x480 with 1 Axes>"
      ]
     },
     "metadata": {},
     "output_type": "display_data"
    }
   ],
   "source": [
    "plt.plot(sorted(pd.concat([train, test], axis=0)['target']))\n",
    "plt.grid(True)\n",
    "plt.xlabel('Proteins')\n",
    "plt.ylabel('target')\n",
    "plt.show()\n",
    "\n",
    "# The graph shows that all gene expressions are positive numbers. A small number of genes show high expression, producing a high peak."
   ]
  },
  {
   "cell_type": "markdown",
   "metadata": {},
   "source": [
    "Quality of the dummy prediction (by the mean of train set)."
   ]
  },
  {
   "cell_type": "code",
   "execution_count": 36,
   "metadata": {},
   "outputs": [
    {
     "name": "stdout",
     "output_type": "stream",
     "text": [
      "The mean of the target variable over the training set is: 0.5310214939723135\n",
      "The MSE of the dummy prediction is: 0.7535519418707666\n"
     ]
    }
   ],
   "source": [
    "mean_train = np.mean(train['target'])\n",
    "print('The mean of the target variable over the training set is:', mean_train)\n",
    "# 0.53\n",
    "\n",
    "dummy_predict = mean_train*np.ones(test.shape[0])\n",
    "dummy_error = mean_squared_error(test['target'], dummy_predict)\n",
    "\n",
    "print('The MSE of the dummy prediction is:', dummy_error)\n",
    "# 0.75\n",
    "\n",
    "# The result is dominated by small values (between 0 and 1), which are quite numerous. \n",
    "# The dummy prediction has RMSE higher than the prediction itself. "
   ]
  },
  {
   "cell_type": "markdown",
   "metadata": {},
   "source": [
    "# Draw the graph.\n",
    "\n",
    "This operation can be commented out for it takes some time. Its possible result is saved as: results/graph_train_test_sets.png .\n",
    "The result shows that the train and test sets seem well distributed over the whole graph. "
   ]
  },
  {
   "cell_type": "markdown",
   "metadata": {},
   "source": [
    "1. Define colors"
   ]
  },
  {
   "cell_type": "code",
   "execution_count": 37,
   "metadata": {},
   "outputs": [
    {
     "name": "stdout",
     "output_type": "stream",
     "text": [
      "True\n",
      "False\n"
     ]
    },
    {
     "name": "stdout",
     "output_type": "stream",
     "text": [
      "<class 'dict'>\n",
      "[[1. 1. 0.]]\n",
      "[[0. 0. 1.]]\n"
     ]
    }
   ],
   "source": [
    "\n",
    "CODE_BLUE = np.array([[0., 0., 1.]])\n",
    "CODE_YELLOW = np.array([[1., 1., 0.]])\n",
    "\n",
    "def node_in_test(in_node):\n",
    "    return np.isin(in_node, test_nodes)\n",
    "\n",
    "# Example.\n",
    "print(node_in_test(9574))  # True\n",
    "print(node_in_test(15514)) # element of train set, returns False\n",
    "\n",
    "def node_to_col(in_node):\n",
    "    return CODE_YELLOW if node_in_test(in_node) else CODE_BLUE\n",
    "\n",
    "# append the info to the graph\n",
    "# dict_clrs = {nde:node_to_col(nde) for nde in G_nodes}\n",
    "dict_clrs = {nde:node_to_col(nde) for nde in G.nodes}\n",
    "\n",
    "print(type(dict_clrs))  # dict\n",
    "print(dict_clrs[9574])  # yellow\n",
    "print(dict_clrs[15514]) # blue\n"
   ]
  },
  {
   "cell_type": "markdown",
   "metadata": {},
   "source": [
    "2. Draw the graph (can be converted to a function of G, or it may already exist)."
   ]
  },
  {
   "cell_type": "code",
   "execution_count": 38,
   "metadata": {},
   "outputs": [
    {
     "name": "stdout",
     "output_type": "stream",
     "text": [
      "(10000, 3)\n",
      "[[0. 0. 1.]\n",
      " [0. 0. 1.]\n",
      " [0. 0. 1.]\n",
      " [0. 0. 1.]\n",
      " [0. 0. 1.]]\n"
     ]
    }
   ],
   "source": [
    "mat_clrs = np.vstack([ dict_clrs[n] for n in G.nodes()])\n",
    "\n",
    "print(mat_clrs.shape)  # should be (10000, 3)\n",
    "\n",
    "\"\"\"\n",
    "[[0. 0. 1.]\n",
    " [0. 0. 1.]\n",
    " [0. 0. 1.]\n",
    " [0. 0. 1.]\n",
    " [0. 0. 1.]]    \n",
    "\"\"\"\n",
    "print(mat_clrs[0:5,:])"
   ]
  },
  {
   "cell_type": "code",
   "execution_count": 39,
   "metadata": {},
   "outputs": [
    {
     "data": {
      "image/png": "[encoded data removed]",
      "text/plain": [
       "<Figure size 640x480 with 1 Axes>"
      ]
     },
     "metadata": {},
     "output_type": "display_data"
    }
   ],
   "source": [
    "nx.draw_spring(G, node_color=mat_clrs, node_size=150)"
   ]
  },
  {
   "cell_type": "markdown",
   "metadata": {},
   "source": []
  },
  {
   "cell_type": "markdown",
   "metadata": {},
   "source": [
    "<div class=\"alert alert-info\">\n",
    "<b>Про Задачу</b>\n",
    "    \n",
    "Вам предлагается предсказать экспрессию белков (`target`) по приведенным данным для отложенной выборки. Ответы в отложенной выборке `test` даны вам для самостоятельной валидации.\n",
    "\n",
    "\n",
    "    \n",
    "   \n",
    "    "
   ]
  },
  {
   "cell_type": "markdown",
   "metadata": {},
   "source": [
    "<div class=\"alert alert-info\">\n",
    "<b>Замечание и комментарии</b>\n",
    "    \n",
    "    \n",
    "\n",
    "По ряду причин датасет был упрощен так, чтобы выполнялись следующие условия:\n",
    "* у графа одна компонента связанности. \n",
    "* удалены слишком крупные хабы\n",
    "* плотность связей графа уменьшена\n",
    "* решить задачу можно классическими ML подходами\n",
    "    \n",
    "   "
   ]
  },
  {
   "cell_type": "markdown",
   "metadata": {},
   "source": [
    "<div class=\"alert alert-info\">\n",
    "<b>Оценка результатов</b>\n",
    "    \n",
    "\n",
    "\n",
    "Оценка точности модели будет оцениваться по метрике MSE на отложенной выборке `test`\n",
    "        \n",
    "</div>"
   ]
  },
  {
   "cell_type": "markdown",
   "metadata": {},
   "source": [
    "<div class=\"alert alert-info\">\n",
    "<b>Автор задачи</b>\n",
    "\n",
    "По всем дополнительным вопросами писать Александру Миленькину\n",
    "* Телеграмм: Alerin75infskin\n",
    "* Почта: milenkin.aa@phystech.edu\n",
    "        \n",
    "</div>"
   ]
  },
  {
   "cell_type": "markdown",
   "metadata": {},
   "source": [
    "Conclusion of 1st (preliminary) EDA.\n",
    "The 10000 nodes are subdivided in a train and test sets with proportion 0.8/0.2 . \n",
    "Test set seems distributed relatively uniformly among the nodes of the graph.\n",
    "\n",
    "The dummy prediction does not take the proteins with high expressivity into account. It produces error higher than the prediction."
   ]
  }
 ],
 "metadata": {
  "kernelspec": {
   "display_name": "Python 3",
   "language": "python",
   "name": "python3"
  },
  "language_info": {
   "codemirror_mode": {
    "name": "ipython",
    "version": 3
   },
   "file_extension": ".py",
   "mimetype": "text/x-python",
   "name": "python",
   "nbconvert_exporter": "python",
   "pygments_lexer": "ipython3",
   "version": "3.11.5"
  },
  "toc": {
   "base_numbering": 1,
   "nav_menu": {},
   "number_sections": true,
   "sideBar": true,
   "skip_h1_title": false,
   "title_cell": "Table of Contents",
   "title_sidebar": "Contents",
   "toc_cell": false,
   "toc_position": {},
   "toc_section_display": true,
   "toc_window_display": false
  }
 },
 "nbformat": 4,
 "nbformat_minor": 4
}
